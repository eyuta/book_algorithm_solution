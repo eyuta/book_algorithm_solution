{
 "metadata": {
  "language_info": {
   "codemirror_mode": {
    "name": "ipython",
    "version": 3
   },
   "file_extension": ".py",
   "mimetype": "text/x-python",
   "name": "python",
   "nbconvert_exporter": "python",
   "pygments_lexer": "ipython3",
   "version": "3.8.5-final"
  },
  "orig_nbformat": 2,
  "kernelspec": {
   "name": "python3",
   "display_name": "Python 3.8.5 64-bit (conda)",
   "metadata": {
    "interpreter": {
     "hash": "063856fee2922c2419f676ac8446901c9f680c8935a4961cf033eb537ba92315"
    }
   }
  }
 },
 "nbformat": 4,
 "nbformat_minor": 2,
 "cells": [
  {
   "cell_type": "code",
   "execution_count": 1,
   "metadata": {},
   "outputs": [],
   "source": [
    "def input_num(description: str) -> int:\n",
    "    while True:\n",
    "        try:\n",
    "            return int(input(description))\n",
    "        except ValueError:\n",
    "            print('Invalid input.')\n",
    "            \n"
   ]
  },
  {
   "cell_type": "code",
   "execution_count": 13,
   "metadata": {},
   "outputs": [
    {
     "output_type": "stream",
     "name": "stdout",
     "text": [
      "result: 55\n"
     ]
    }
   ],
   "source": [
    "def func(N: int)->int:\n",
    "    return 0 if N == 0 else N + func(N -1)\n",
    "result = func(input_num('Number: '))\n",
    "print('result: {}'.format(result))"
   ]
  },
  {
   "cell_type": "code",
   "execution_count": 18,
   "metadata": {},
   "outputs": [
    {
     "output_type": "stream",
     "name": "stdout",
     "text": [
      "func(1) を呼び出しました\nfunc(0) を呼び出しました\n1 までの和 = 1\nresult: 1\n"
     ]
    }
   ],
   "source": [
    "def func(N: int)->int:\n",
    "    print('func({}) を呼び出しました'.format(N))\n",
    "    if N == 0:\n",
    "        return 0\n",
    "\n",
    "    result = N + func(N -1)\n",
    "    print('{} までの和 = {}'.format(N, result))\n",
    "    return result\n",
    "\n",
    "result = func(input_num('Number: '))\n",
    "print('result: {}'.format(result))"
   ]
  },
  {
   "cell_type": "code",
   "execution_count": 39,
   "metadata": {},
   "outputs": [
    {
     "output_type": "execute_result",
     "data": {
      "text/plain": [
       "3"
      ]
     },
     "metadata": {},
     "execution_count": 39
    }
   ],
   "source": [
    "def GCD(m:int, n:int)-> int:\n",
    "    return m if n == 0 else GCD(n, m % n)\n",
    "\n",
    "GCD(15, 51) # 3\n",
    "GCD(51, 15) # 3\n"
   ]
  },
  {
   "cell_type": "code",
   "execution_count": 47,
   "metadata": {},
   "outputs": [
    {
     "output_type": "stream",
     "name": "stdout",
     "text": [
      "fibo(6) を呼び出しました\nfibo(5) を呼び出しました\nfibo(4) を呼び出しました\nfibo(3) を呼び出しました\nfibo(2) を呼び出しました\nfibo(1) を呼び出しました\nfibo(0) を呼び出しました\n2 項目 = 1\nfibo(1) を呼び出しました\n3 項目 = 2\nfibo(2) を呼び出しました\nfibo(1) を呼び出しました\nfibo(0) を呼び出しました\n2 項目 = 1\n4 項目 = 3\nfibo(3) を呼び出しました\nfibo(2) を呼び出しました\nfibo(1) を呼び出しました\nfibo(0) を呼び出しました\n2 項目 = 1\nfibo(1) を呼び出しました\n3 項目 = 2\n5 項目 = 5\nfibo(4) を呼び出しました\nfibo(3) を呼び出しました\nfibo(2) を呼び出しました\nfibo(1) を呼び出しました\nfibo(0) を呼び出しました\n2 項目 = 1\nfibo(1) を呼び出しました\n3 項目 = 2\nfibo(2) を呼び出しました\nfibo(1) を呼び出しました\nfibo(0) を呼び出しました\n2 項目 = 1\n4 項目 = 3\n6 項目 = 8\nresult: 8\n"
     ]
    }
   ],
   "source": [
    "def fibo(N: int) -> int:\n",
    "    print('fibo({}) を呼び出しました'.format(N))\n",
    "    if N == 0:\n",
    "        return 0\n",
    "    if N == 1:\n",
    "        return 1\n",
    "    result = fibo(N-1) + fibo(N-2)\n",
    "    print('{} 項目 = {}'.format(N, result))\n",
    "    return result\n",
    "print('result: {}'.format(fibo(6)))"
   ]
  },
  {
   "cell_type": "code",
   "execution_count": 90,
   "metadata": {},
   "outputs": [
    {
     "output_type": "stream",
     "name": "stdout",
     "text": [
      "2 項目: 1\n3 項目: 2\n4 項目: 3\n5 項目: 5\n6 項目: 8\n7 項目: 13\n8 項目: 21\n9 項目: 34\n10 項目: 55\nresult: [0, 1, 1, 2, 3, 5, 8, 13, 21, 34, 55]\n"
     ]
    }
   ],
   "source": [
    "K = input_num('Number: ')\n",
    "F = [0, 1]\n",
    "for N in range(2, K + 1):\n",
    "    F.append(F[N -1] + F[N -2])\n",
    "    print('{} 項目: {}'.format(N, F[N]))\n",
    "print('result: {}'.format(F))\n"
   ]
  },
  {
   "cell_type": "code",
   "execution_count": 4,
   "metadata": {},
   "outputs": [
    {
     "output_type": "stream",
     "name": "stdout",
     "text": [
      "result: [0, 1, 1, 2, 3, 5, 8, 13, 21, 34, 55]\n"
     ]
    }
   ],
   "source": [
    "K = input_num('Number: ')\n",
    "memo = [-1] * (K + 1)\n",
    "memo[0] = 0\n",
    "memo[1] = 1\n",
    "\n",
    "def fibo(N: int) -> int:\n",
    "    if memo[N] != -1:\n",
    "        return memo[N]\n",
    "\n",
    "    memo[N] = fibo(N-1) + fibo(N-2)\n",
    "    return memo[N]\n",
    "\n",
    "fibo(K)\n",
    "print('result: {}'.format(memo))"
   ]
  },
  {
   "cell_type": "code",
   "execution_count": 35,
   "metadata": {},
   "outputs": [
    {
     "output_type": "stream",
     "name": "stdout",
     "text": [
      "result: 55\n"
     ]
    },
    {
     "output_type": "execute_result",
     "data": {
      "text/plain": [
       "CacheInfo(hits=8, misses=11, maxsize=128, currsize=11)"
      ]
     },
     "metadata": {},
     "execution_count": 35
    }
   ],
   "source": [
    "from functools import lru_cache\n",
    "\n",
    "@lru_cache\n",
    "def fibo(N: int) -> int:\n",
    "    if N == 0:\n",
    "        return 0\n",
    "    if N == 1:\n",
    "        return 1\n",
    "    return fibo(N-1) + fibo(N-2)\n",
    "print('result: {}'.format(fibo(10)))\n",
    "fibo.cache_info()\n"
   ]
  },
  {
   "cell_type": "code",
   "execution_count": 106,
   "metadata": {},
   "outputs": [
    {
     "output_type": "stream",
     "name": "stdout",
     "text": [
      "result: No\n"
     ]
    }
   ],
   "source": [
    "def func(i: int, w: int, a: list) -> bool:\n",
    "    # ベースケース\n",
    "    if i == 0:\n",
    "        return w == 0\n",
    "    \n",
    "    # a[i - 1]を選ばない場合\n",
    "    if func(i - 1, w, a):\n",
    "        return True\n",
    "\n",
    "    # a[i - 1]を選ぶ場合\n",
    "    if func(i - 1, w - a[i - 1], a):\n",
    "        return True\n",
    "\n",
    "    return False\n",
    "\n",
    "# N = input_num('Number N: ')\n",
    "# W = input_num('Number W: ')\n",
    "# a = [input_num('Array[{}]: '.format(i)) for i in range(N)]\n",
    "N = 20\n",
    "W = 62\n",
    "a = [2,2,2,4,5]*4\n",
    "\n",
    "print('result: {}'.format('Yes' if func(N, W, a) else 'No'))\n"
   ]
  },
  {
   "cell_type": "code",
   "execution_count": 194,
   "metadata": {},
   "outputs": [
    {
     "output_type": "stream",
     "name": "stdout",
     "text": [
      "result: No\n1\nresult: No\n2\nresult: No\n4\nresult: No\n7\nresult: Yes\n12\nresult: Yes\n1\nresult: Yes\n1\nresult: Yes\n1\nresult: Yes\n1\nresult: Yes\n1\nresult: Yes\n1\nresult: Yes\n1\nresult: Yes\n1\nresult: Yes\n1\nresult: Yes\n1\nresult: Yes\n1\nresult: Yes\n1\nresult: Yes\n1\nresult: Yes\n1\nresult: Yes\n1\nresult: Yes\n1\nresult: Yes\n1\nresult: Yes\n1\nresult: Yes\n1\nresult: Yes\n1\n"
     ]
    }
   ],
   "source": [
    "from functools import lru_cache\n",
    "\n",
    "count = 0\n",
    "N = 25\n",
    "W = 10\n",
    "a = [1,2,3,4,5]*int(N / 5)\n",
    "\n",
    "@lru_cache\n",
    "def func(i: int, w: int) -> bool:\n",
    "    global count\n",
    "    count += 1  \n",
    "    # ベースケース\n",
    "    if i == 0:\n",
    "        return w == 0\n",
    "    \n",
    "    # a[i - 1]を選ばない場合\n",
    "    if func(i - 1, w):\n",
    "        return True\n",
    "\n",
    "    # a[i - 1]を選ぶ場合\n",
    "    if func(i - 1, w - a[i - 1]):\n",
    "        return True\n",
    "\n",
    "    return False\n",
    "\n",
    "# N = input_num('Number N: ')\n",
    "# W = input_num('Number W: ')\n",
    "# a = [input_num('Array[{}]: '.format(i)) for i in range(N)]\n",
    "\n",
    "for i in range(N):\n",
    "    count = 0\n",
    "    print('result: {}'.format('Yes' if func(i, W) else 'No'))\n",
    "    print(count)\n",
    "\n",
    "# print('result: {}'.format('Yes' if func(N, W) else 'No'))\n"
   ]
  },
  {
   "cell_type": "code",
   "execution_count": 21,
   "metadata": {},
   "outputs": [
    {
     "output_type": "stream",
     "name": "stdout",
     "text": [
      "N:  0, result:          0\nN:  1, result:          0\nN:  2, result:          1\nN:  3, result:          1\nN:  4, result:          2\nN:  5, result:          4\nN:  6, result:          7\nN:  7, result:         13\nN:  8, result:         24\nN:  9, result:         44\n"
     ]
    }
   ],
   "source": [
    "N = input_num('Number: ')\n",
    "\n",
    "memo = [-1] * N\n",
    "\n",
    "def tri(N: int) -> int:\n",
    "    if N == 0 or N == 1:\n",
    "        return 0\n",
    "    if N == 2:\n",
    "        return 1\n",
    "    if memo[N] != -1:\n",
    "        return memo[N]\n",
    "    \n",
    "    result = tri(N-1) + tri(N-2) + tri(N-3)\n",
    "\n",
    "    memo[N] = result\n",
    "\n",
    "    return result\n",
    "\n",
    "for i in range(N):\n",
    "    print('N: {:2d}, result: {:10d}'.format(i, tri(i)))"
   ]
  },
  {
   "cell_type": "code",
   "execution_count": 157,
   "metadata": {},
   "outputs": [
    {
     "output_type": "stream",
     "name": "stdout",
     "text": [
      "result: [3357, 3375, 3537, 3557, 357, 3573, 3575, 3577, 3735, 375, 3753, 3755, 3757, 3775, 5337, 5357, 537, 5373, 5375, 5377, 5537, 5573, 573, 5733, 5735, 5737, 5753, 5773, 7335, 735, 7353, 7355, 7357, 7375, 753, 7533, 7535, 7537, 7553, 7573, 7735, 7753]\ncount : 42\n"
     ]
    }
   ],
   "source": [
    "\n",
    "def count753Number(K:int, n: int, use: int, result: list) -> int:\n",
    "    if n > K:\n",
    "        return\n",
    "    \n",
    "    if use == 0b111:\n",
    "        result.append(n)\n",
    "\n",
    "    count753Number(K, n*10 + 3, use | 0b001, result)\n",
    "    count753Number(K, n*10 + 5, use | 0b010, result)\n",
    "    count753Number(K, n*10 + 7, use | 0b100, result)\n",
    "\n",
    "# K = input_num('Number: ')\n",
    "K = 9999\n",
    "\n",
    "if K < 357:\n",
    "    raise ValueError('Invalid input')\n",
    "\n",
    "result = []\n",
    "count753Number(K, 0, 0b000, result)\n",
    "print('result: {}'.format(result))\n",
    "print('count : {}'.format(len(result)))\n",
    "\n"
   ]
  },
  {
   "cell_type": "code",
   "execution_count": 158,
   "metadata": {},
   "outputs": [
    {
     "output_type": "stream",
     "name": "stdout",
     "text": [
      "d                : 3\nK                : 999\nExpected(O(3**d)): 27\nCalled           : 121\nActual / Expected: 4.481481481481482\ncount            : 0\n======================================\nd                : 4\nK                : 9999\nExpected(O(3**d)): 81\nCalled           : 364\nActual / Expected: 4.493827160493828\ncount            : 0\n======================================\nd                : 5\nK                : 99999\nExpected(O(3**d)): 243\nCalled           : 1093\nActual / Expected: 4.497942386831276\ncount            : 0\n======================================\nd                : 6\nK                : 999999\nExpected(O(3**d)): 729\nCalled           : 3280\nActual / Expected: 4.499314128943759\ncount            : 0\n======================================\nd                : 7\nK                : 9999999\nExpected(O(3**d)): 2187\nCalled           : 9841\nActual / Expected: 4.499771376314587\ncount            : 0\n======================================\nd                : 8\nK                : 99999999\nExpected(O(3**d)): 6561\nCalled           : 29524\nActual / Expected: 4.4999237921048625\ncount            : 0\n======================================\nd                : 9\nK                : 999999999\nExpected(O(3**d)): 19683\nCalled           : 88573\nActual / Expected: 4.499974597368287\ncount            : 0\n======================================\n"
     ]
    }
   ],
   "source": [
    "called = 0\n",
    "\n",
    "def count753Number(K:int, n: int, use: int, result: list) -> int:\n",
    "    global called\n",
    "    called += 1\n",
    "\n",
    "    if n > K:\n",
    "        return\n",
    "\n",
    "    if use == 0b111:\n",
    "        result.append(n)\n",
    "\n",
    "    count753Number(K, n*10 + 3, use | 0b001, result)\n",
    "    count753Number(K, n*10 + 5, use | 0b010, result)\n",
    "    count753Number(K, n*10 + 7, use | 0b100, result)\n",
    "\n",
    "\n",
    "for d in range(3, 10):\n",
    "    K = int('9' * d)\n",
    "    count = 0\n",
    "    called = 0\n",
    "    count753Number(K, 0, 0b000, result)\n",
    "    print('d                : {}'.format(d))\n",
    "    print('K                : {}'.format(K))\n",
    "    print('Expected(O(3**d)): {}'.format(3**d))\n",
    "    print('Called           : {}'.format(called))\n",
    "    print('Actual / Expected: {}'.format(called / 3**d))\n",
    "    print('count            : {}'.format(count))\n",
    "    print('======================================')\n",
    "\n"
   ]
  },
  {
   "cell_type": "code",
   "execution_count": 159,
   "metadata": {},
   "outputs": [
    {
     "output_type": "stream",
     "name": "stdout",
     "text": [
      "4.5\n13.5\n40.5\n121.5\n364.5\n1093.5\n3280.5\n9841.5\n29524.5\n88573.5\n"
     ]
    }
   ],
   "source": [
    "for i in range(10):\n",
    "    print(4.5 * 3 ** i)"
   ]
  },
  {
   "cell_type": "code",
   "execution_count": 399,
   "metadata": {
    "tags": []
   },
   "outputs": [
    {
     "output_type": "stream",
     "name": "stdout",
     "text": [
      "result: Yes\nN*W   : 1200\n2 ** N: 1048576\ncount : 674\n"
     ]
    }
   ],
   "source": [
    "from typing import Callable\n",
    "\n",
    "def cache(func: Callable) -> Callable:\n",
    "    memo = {}\n",
    "    def wrapper(*args, **kwargs):\n",
    "        if (args[:2]) not in memo:\n",
    "            memo[args[:2]] = func(*args, **kwargs)\n",
    "\n",
    "        return memo[args[:2]]\n",
    "    return wrapper\n",
    "\n",
    "@cache\n",
    "def func(i: int, w: int, a: list, count: Callable) -> bool:\n",
    "    count()\n",
    "    # ベースケース\n",
    "    if i == 0:\n",
    "        return w == 0\n",
    "\n",
    "    # a[i - 1]を選ばない場合\n",
    "    if func(i - 1, w, a, count):\n",
    "        return True\n",
    "\n",
    "    # a[i - 1]を選ぶ場合\n",
    "    if func(i - 1, w - a[i - 1], a, count):\n",
    "        return True\n",
    "\n",
    "    return False\n",
    "\n",
    "def counter() -> Callable:\n",
    "    count = 0\n",
    "    def inner():\n",
    "        nonlocal count\n",
    "        count += 1\n",
    "        return count\n",
    "    return inner\n",
    "\n",
    "count = counter()\n",
    "N = 20\n",
    "W = 60\n",
    "a = [1,2,3,4,5]*int(N/5)\n",
    "\n",
    "print('result: {}'.format('Yes' if func(N, W, a, count) else 'No'))\n",
    "print('N*W   : {}'.format(N*W))\n",
    "print('2 ** N: {}'.format(2 ** N))\n",
    "print('count : {}'.format(count() - 1))\n",
    "\n"
   ]
  }
 ]
}