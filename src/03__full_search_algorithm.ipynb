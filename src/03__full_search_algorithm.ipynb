{
 "metadata": {
  "language_info": {
   "codemirror_mode": {
    "name": "ipython",
    "version": 3
   },
   "file_extension": ".py",
   "mimetype": "text/x-python",
   "name": "python",
   "nbconvert_exporter": "python",
   "pygments_lexer": "ipython3",
   "version": "3.8.5-final"
  },
  "orig_nbformat": 2,
  "kernelspec": {
   "name": "python3",
   "display_name": "Python 3.8.5 64-bit ('shion': virtualenv)",
   "metadata": {
    "interpreter": {
     "hash": "063856fee2922c2419f676ac8446901c9f680c8935a4961cf033eb537ba92315"
    }
   }
  }
 },
 "nbformat": 4,
 "nbformat_minor": 2,
 "cells": [
  {
   "cell_type": "code",
   "execution_count": 5,
   "metadata": {},
   "outputs": [],
   "source": [
    "def input_num(description: str) -> int:\n",
    "    while True:\n",
    "        try:\n",
    "            return int(input(description))\n",
    "        except ValueError:\n",
    "            print('Invalid input.')"
   ]
  },
  {
   "cell_type": "code",
   "execution_count": 63,
   "metadata": {},
   "outputs": [
    {
     "output_type": "stream",
     "name": "stdout",
     "text": [
      "Yes\n"
     ]
    }
   ],
   "source": [
    "N = input_num('Number: ')\n",
    "v = input_num('Value: ')\n",
    "a = [input_num('Array[{}]: '.format(i)) for i in range(N)]\n",
    "\n",
    "exist = False\n",
    "for x in a:\n",
    "    if x == v:\n",
    "        exist = True\n",
    "\n",
    "print('result: {}'.format('Yes' if exist else 'No'))"
   ]
  },
  {
   "cell_type": "code",
   "execution_count": null,
   "metadata": {},
   "outputs": [],
   "source": [
    "N = input_num('Number: ')\n",
    "v = input_num('Value: ')\n",
    "a = [input_num('Array[{}]: '.format(i)) for i in range(N)]\n",
    "\n",
    "it = (True for x in a if x == v)\n",
    "exist = next(it, False)\n",
    "\n",
    "print('result: {}'.format('Yes' if exist else 'No'))"
   ]
  },
  {
   "cell_type": "code",
   "execution_count": 82,
   "metadata": {},
   "outputs": [
    {
     "output_type": "stream",
     "name": "stdout",
     "text": [
      "1\n"
     ]
    }
   ],
   "source": [
    "def find(l: list, v: int) -> int:\n",
    "    try:\n",
    "        return l.index(v)\n",
    "    except ValueError:\n",
    "        return -1\n",
    "\n",
    "\n",
    "N = input_num('Number: ')\n",
    "v = input_num('Value: ')\n",
    "a = [input_num('Array[{}]: '.format(i)) for i in range(N)]\n",
    "\n",
    "found_id = find(a, v)\n",
    "print(found_id)"
   ]
  },
  {
   "cell_type": "code",
   "execution_count": 83,
   "metadata": {},
   "outputs": [
    {
     "output_type": "stream",
     "name": "stdout",
     "text": [
      "1\n"
     ]
    }
   ],
   "source": [
    "INF = 20_000_000\n",
    "\n",
    "N = input_num('Number: ')\n",
    "a = [input_num('Array[{}]: '.format(i)) for i in range(N)]\n",
    "\n",
    "min_value = INF\n",
    "for x in a:\n",
    "    if x < min_value:\n",
    "        min_value = x\n",
    "\n",
    "print(min_value)\n"
   ]
  },
  {
   "cell_type": "code",
   "execution_count": 3,
   "metadata": {},
   "outputs": [
    {
     "output_type": "stream",
     "name": "stdout",
     "text": [
      "1 1\nResult: 2\n"
     ]
    }
   ],
   "source": [
    "INF = 20_000_000\n",
    "\n",
    "N = input_num('Number N: ')\n",
    "K = input_num('Number K: ')\n",
    "a = [input_num('Array a[{}]: '.format(i)) for i in range(N)]\n",
    "b = [input_num('Array b[{}]: '.format(i)) for i in range(N)]\n",
    "\n",
    "min_value = INF\n",
    "for x in a:\n",
    "    for y in b:\n",
    "        print(x, y)\n",
    "        if x + y < K:\n",
    "            continue\n",
    "        if x + y < min_value:\n",
    "            min_value = x + y\n",
    "\n",
    "print('Result: {}'.format(min_value))"
   ]
  },
  {
   "cell_type": "code",
   "execution_count": 95,
   "metadata": {},
   "outputs": [
    {
     "output_type": "stream",
     "name": "stdout",
     "text": [
      "1 1\nResult: 2\n"
     ]
    }
   ],
   "source": [
    "from itertools import product\n",
    "INF = 20_000_000\n",
    "\n",
    "N = input_num('Number N: ')\n",
    "K = input_num('Number K: ')\n",
    "a = [input_num('Array a[{}]: '.format(i)) for i in range(N)]\n",
    "b = [input_num('Array b[{}]: '.format(i)) for i in range(N)]\n",
    "\n",
    "min_value = INF\n",
    "for x, y in product(a, b):\n",
    "    print(x, y)\n",
    "    if x + y < K:\n",
    "        continue\n",
    "    if x + y < min_value:\n",
    "        min_value = x + y\n",
    "\n",
    "print('Result: {}'.format(min_value))"
   ]
  },
  {
   "cell_type": "code",
   "execution_count": 142,
   "metadata": {},
   "outputs": [
    {
     "output_type": "stream",
     "name": "stdout",
     "text": [
      "result: Yes\n"
     ]
    }
   ],
   "source": [
    "N = input_num('Number: ')\n",
    "W = input_num('Wa: ')\n",
    "a = [input_num('Array[{}]: '.format(i)) for i in range(N)]\n",
    "\n",
    "exist = False\n",
    "for bit in range(1 << N):\n",
    "    subset = [a[i] for i in range(N) if bit & 1 << i]\n",
    "    if sum(subset) == W:\n",
    "        exist = True\n",
    "\n",
    "\n",
    "print('result: {}'.format('Yes' if exist else 'No'))"
   ]
  },
  {
   "cell_type": "code",
   "execution_count": 144,
   "metadata": {},
   "outputs": [
    {
     "output_type": "stream",
     "name": "stdout",
     "text": [
      "result: Yes\n"
     ]
    }
   ],
   "source": [
    "# N = input_num('Number: ')\n",
    "# W = input_num('Wa: ')\n",
    "# a = [input_num('Array[{}]: '.format(i)) for i in range(N)]\n",
    "N = 5\n",
    "W = 0\n",
    "a = [1,2,3,4,5]\n",
    "\n",
    "\n",
    "exist = False\n",
    "for bit in range(1 << N):\n",
    "    subset = [a[i] for i in range(N) if bit & 1 << i]\n",
    "    if sum(subset) == W:\n",
    "        exist = True\n",
    "\n",
    "\n",
    "print('result: {}'.format('Yes' if exist else 'No'))"
   ]
  },
  {
   "cell_type": "code",
   "execution_count": 149,
   "metadata": {},
   "outputs": [
    {
     "output_type": "stream",
     "name": "stdout",
     "text": [
      "result: 0\n"
     ]
    }
   ],
   "source": [
    "# N = input_num('Number: ')\n",
    "# v = input_num('Value: ')\n",
    "# a = [input_num('Array[{}]: '.format(i)) for i in range(N)]\n",
    "N = 5\n",
    "v = 44\n",
    "a = [1,2,3,4,4,4]\n",
    "\n",
    "filtered = [x for x in a if x == v]\n",
    "print('result: {}'.format(len(filtered)))"
   ]
  },
  {
   "cell_type": "code",
   "execution_count": 163,
   "metadata": {},
   "outputs": [
    {
     "output_type": "stream",
     "name": "stdout",
     "text": [
      "result: 1\nresult: 1\n"
     ]
    }
   ],
   "source": [
    "\n",
    "INF = 20_000_000\n",
    "# N = input_num('Number: ')\n",
    "# v = input_num('Value: ')\n",
    "# a = [input_num('Array[{}]: '.format(i)) for i in range(N)]\n",
    "N = 5\n",
    "a = [1,1,31,42,14]\n",
    "\n",
    "min_value = INF\n",
    "second_min_value = INF\n",
    "for x in a:\n",
    "    if x < min_value:\n",
    "        second_min_value = min_value\n",
    "        min_value = x\n",
    "    elif x < second_min_value:\n",
    "        second_min_value = x\n",
    "print('result: {}'.format(second_min_value))\n",
    "print('result: {}'.format(min_value))"
   ]
  },
  {
   "cell_type": "code",
   "execution_count": 8,
   "metadata": {},
   "outputs": [
    {
     "output_type": "stream",
     "name": "stdout",
     "text": [
      "result max_value: 100\nresult min_value: -500\nresult diff     : 600\n"
     ]
    }
   ],
   "source": [
    "INF = 20_000_000\n",
    "# N = input_num('Number: ')\n",
    "# a = [input_num('Array[{}]: '.format(i)) for i in range(N)]\n",
    "N = 4\n",
    "a = [-20, 20, 100, -500]\n",
    "\n",
    "min_value = INF\n",
    "max_value = -INF\n",
    "\n",
    "if N == 1:\n",
    "    raise ValueError('Invalid input.')\n",
    "\n",
    "for x in a:\n",
    "    if x < min_value:\n",
    "        min_value = x\n",
    "    if x > max_value:\n",
    "        max_value = x\n",
    "\n",
    "print('result max_value: {}'.format(max_value))\n",
    "print('result min_value: {}'.format(min_value))\n",
    "print('result diff     : {}'.format(max_value - min_value))\n"
   ]
  },
  {
   "cell_type": "code",
   "execution_count": 10,
   "metadata": {},
   "outputs": [
    {
     "output_type": "stream",
     "name": "stdout",
     "text": [
      "result: 5\n"
     ]
    }
   ],
   "source": [
    "# N = input_num('Number: ')\n",
    "# a = [input_num('Array[{}]: '.format(i)) for i in range(N)]\n",
    "N = 4\n",
    "a = [64, 32, 1024, 512]\n",
    "\n",
    "count = 0\n",
    "\n",
    "while True:\n",
    "    even = [ x / 2 for x in a if x % 2 == 0]\n",
    "    if len(even) != N:\n",
    "        break\n",
    "    a = even\n",
    "    count += 1\n",
    "print('result: {}'.format(count))"
   ]
  },
  {
   "cell_type": "code",
   "execution_count": 58,
   "metadata": {},
   "outputs": [
    {
     "output_type": "stream",
     "name": "stdout",
     "text": [
      "result: 66\n"
     ]
    }
   ],
   "source": [
    "from itertools import product\n",
    "\n",
    "# N = input_num('Number N: ')\n",
    "# K = input_num('Number K: ')\n",
    "N = 10\n",
    "K = 10\n",
    "\n",
    "count = 0\n",
    "for X, Y in product(range(K + 1), range(K + 1)):\n",
    "    if X + Y >= N - K and X + Y <= N:\n",
    "        count += 1\n",
    "\n",
    "print('result: {}'.format(count))\n"
   ]
  },
  {
   "cell_type": "code",
   "execution_count": 12,
   "metadata": {},
   "outputs": [
    {
     "output_type": "stream",
     "name": "stdout",
     "text": [
      "result: 142\n"
     ]
    }
   ],
   "source": [
    "S = str(input_num('Number: '))\n",
    "N = len(S)\n",
    "between = N - 1\n",
    "\n",
    "total = 0\n",
    "for bit in range(1<<between):\n",
    "    temp = 0\n",
    "    for i in range(between):\n",
    "        temp += int(S[i])\n",
    "        if bit & 1 << i:\n",
    "            total += temp\n",
    "            temp = 0\n",
    "        else:\n",
    "            temp *= 10\n",
    "    total += temp + int(S[-1])\n",
    "print('result: {}'.format(total))"
   ]
  },
  {
   "cell_type": "code",
   "execution_count": null,
   "metadata": {},
   "outputs": [],
   "source": []
  }
 ]
}